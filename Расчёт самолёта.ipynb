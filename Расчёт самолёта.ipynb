{
 "nbformat": 4,
 "nbformat_minor": 2,
 "metadata": {
  "language_info": {
   "name": "python",
   "codemirror_mode": {
    "name": "ipython",
    "version": 3
   },
   "version": "3.7.4-final"
  },
  "orig_nbformat": 2,
  "file_extension": ".py",
  "mimetype": "text/x-python",
  "name": "python",
  "npconvert_exporter": "python",
  "pygments_lexer": "ipython3",
  "version": 3,
  "kernelspec": {
   "name": "python3",
   "display_name": "Python 3"
  }
 },
 "cells": [
  {
   "source": [
    "from math import*\n",
    "\n",
    "# Параметры завязки\n",
    "N = 9                   # Число пассажиров (задается)\n",
    "m_pass = 77 + 15.0        # Масса пассажира с багажом (задается)\n",
    "m_pilot = 80            # Масса пилота\\/ (задается)\n",
    "m_con = 0.3           # Относительная масса конструкции (задается)\n",
    "m_t = 0.20            # Относительная масса топлива (задается)\n",
    "m_ob = 0.12           # Относительная масса оборудования (задается)\n",
    "m_su = 0.12           # Относительная силовой установки (задается)\n",
    "M_cn = m_pass*N         # Масса целевой нагрузки (задается)\n",
    "M_sluj = M_cn*0.15      # Масса служебной нагрузки (задается)\n",
    "Mass = 0                   # Масса \n",
    "pi = 3.1416\n",
    "n_e = 2.5\n",
    "\n",
    "# Основные характеристики\n",
    "p_0 = 165               # Нагрузка на крыло (кг/м^2) (вычисляется)\n",
    "V_kr = 500              # Крейсерская скорость (км/ч) (задается)\n",
    "V_max = 650             # Максимальная скорость (км/ч) (задается)\n",
    "P_0 = 0.371             # Тяговооруженность (вычисляется)\n",
    "Lmax = 2400             # Максимальная дальность (задается)\n",
    "Lline = 1500            # Дальность с максимальной целевой нагрузкой (задается)\n",
    "H_kr = 10                # Высота крейсерского полета (задается)\n",
    "\n",
    "K_max = 14.7            # Максимлаьное А качество (задается)\n",
    "K_kr = 12.5             # А качество на крейсерском полете (задается)\n",
    "K_vz = 9                # А качество на взлете (задается)\n",
    "K_pos = 8               # А качество на посадке (задается)\n",
    "\n",
    "Сx_0 = 0.0128           # Коэффициент лобового сопротивления на углу нулевой подъемной силы (задается)\n",
    "Сy_vz = 2.3             # Взлетный коэфф. подъемной силы (задается)\n",
    "Сy_pos = 3              # Коэфф. подъемной силы на посадке (задается)\n",
    "Сy_Kmax = 0.5           # Коэффициент подъемной силы на максимальном качестве (вычисляется)\n",
    "Сy_kr = 0.348           # Коэффициент подъемной силы на крейсерском полете (вычисляется)\n",
    "Cy_dop = 0.884          # Коэффициент допустимой подъемной силы на 2-4гр. ниже максимального (задается)\n",
    "V_zpos = 140            # Cкорость захода на посадку (задается) (км/ч)\n",
    "\n",
    "#Крыло\n",
    "Wing_k_mechanical = 1.1\n",
    "Wing_k_construction = 0.95\n",
    "Wing_k_mt = 1\n",
    "Wing_teta = 1\n",
    "Wing_niu = 2\n",
    "Wing_miu = 1\n",
    "Wing_ksi = 8              # Стреловидность по 0,25 САХ (град)\n",
    "Wing_lymbda = 8           # Удлинение крыла (задается)\n",
    "Wing_lymbda_e = 0.0         # Эффективное удлинение крыла (вычисляется)\n",
    "Wing_S = 22.2             # Площадь крыла (м^2) (вычисляется)\n",
    "Wing_C_0 = 0.12           # Относительная тощина крыла корневая (задается)\n",
    "Wing_C_k = 0.12           # Относительная тощина крыла концевая (задается)\n",
    "K_sh = 1\n",
    "k_t_kr = 0.7\n",
    "z_t_kr = 0.6\n",
    "m_kr = 0.1\n",
    "\n",
    "#Фюзеляж\n",
    "d_f = 1.7\n",
    "l_f = 6\n",
    "lymbda_f = 6\n",
    "k_1 = 4.56-0.441*d_f\n",
    "k_2 = 0\n",
    "k_3 = 0\n",
    "k_4 = 0\n",
    "i = -0.743\n",
    "m_f = 0.14\n",
    "\n",
    "#Оперение\n",
    "Kv = 0.643+0.00102*V_max  # Коэффициент от скорости полета\n",
    "Km = 1                    # Коэффициент маневренности  (1 - не маневреный, 1,5 - маневреный)\n",
    "Sop = 10                  # Площадь оперения\n",
    "m_op = 0.025\n",
    "\n",
    "#Шасси\n",
    "k_mt_sh = 1\n",
    "k_obt = 1\n",
    "H_sh = 1.0\n",
    "Ppn = 5\n",
    "Kpn = 0.93\n",
    "k_grn = 1.1\n",
    "m_sh = 0.05\n",
    "\n",
    "#Силова установка\n",
    "kdv_1 = 0.95\n",
    "kdv_f = 1\n",
    "Ndv = 1\n",
    "Ndv_rev = 0\n",
    "m_dv = 2.8\n",
    "kdv_2 = 0.0236\n",
    "gama_dv = 0.175\n",
    "\n",
    "#Топливо\n",
    "Cp_0 = 0.5 #Удельный расход топлива на земле, кг/(кгс*ч)\n",
    "m_t = 0.2\n",
    "\n",
    "# Атмосфера\n",
    "Atmos_ro = [1.225,1.112,1.006,0.909,0.819,0.736,0.66,0.59,0.526,0.467,0.414,0.365,0.312,0.266,0.228,0.195,0.166,0.142,0.121,0.104,0.089,0.076,0.064,0.055,0.047,0.04] #Плотность воздуха на высоте\n",
    "Atmos_delta = [(Atmos_ro[n]/Atmos_ro[0]) for n in range(26)]\n",
    "Atmos_delta_sqrt = [1/sqrt(Atmos_delta[n]) for n in range(26)]\n",
    "Atmos_a = [340.3,336.4,332.5,328.6,324.6,320.5,316.5,312.3,308.1,303.8,299.5,295.2,295.1,295.1,295.1,295.1,295.1,295.1,295.1,295.1,295.1,295.7,296.4,297.0,297.7,298.4] #Скорость звука на высоте\n",
    "g = 9.8"
   ],
   "cell_type": "code",
   "outputs": [],
   "metadata": {},
   "execution_count": 1
  },
  {
   "source": [
    "def M_fl(H, V):\n",
    "    M_fl = V/3.6/Atmos_a[H]\n",
    "    return M_fl"
   ],
   "cell_type": "code",
   "outputs": [],
   "metadata": {},
   "execution_count": 2
  },
  {
   "source": [
    "def q(H,V):\n",
    "    q = Atmos_ro[H]*V*V/2\n",
    "    return q"
   ],
   "cell_type": "code",
   "outputs": [],
   "metadata": {},
   "execution_count": 3
  },
  {
   "source": [
    "def Wing_lymbda_e():\n",
    "    Wing_lymbda_e = Wing_lymbda/(1+1.53*radians(Wing_ksi)*(M_fl(H_kr,V_kr)-0.4)+(0.018+0.152*radians(Wing_ksi))*Wing_lymbda)\n",
    "    return Wing_lymbda_e"
   ],
   "cell_type": "code",
   "outputs": [],
   "metadata": {},
   "execution_count": 4
  },
  {
   "source": [
    "def Сy_kr():\n",
    "    Сy_kr = 0.71*Сy_Kmax()\n",
    "    return Сy_kr"
   ],
   "cell_type": "code",
   "outputs": [],
   "metadata": {},
   "execution_count": 8
  },
  {
   "source": [
    "print (Wing_lymbda_e())"
   ],
   "cell_type": "code",
   "outputs": [
    {
     "output_type": "stream",
     "name": "stdout",
     "text": "6.026812934073808\n"
    }
   ],
   "metadata": {},
   "execution_count": 5
  },
  {
   "source": [
    "def Сy_Kmax():\n",
    "    Сy_Kmax = sqrt(pi*Wing_lymbda_e()*Сx_0)\n",
    "    return Сy_Kmax"
   ],
   "cell_type": "code",
   "outputs": [],
   "metadata": {},
   "execution_count": 6
  },
  {
   "source": [
    "print (Сy_Kmax())"
   ],
   "cell_type": "code",
   "outputs": [
    {
     "output_type": "stream",
     "name": "stdout",
     "text": "0.49229370763314084\n"
    }
   ],
   "metadata": {},
   "execution_count": 7
  },
  {
   "source": [
    "def p_kr_1():\n",
    "    p_kr_1 = Сy_pos*pow((V_zpos/3.6),2)/(30.2*(1-m_t))\n",
    "    return p_kr_1"
   ],
   "cell_type": "code",
   "outputs": [],
   "metadata": {},
   "execution_count": 10
  },
  {
   "source": [
    "print (Сy_kr())"
   ],
   "cell_type": "code",
   "outputs": [
    {
     "output_type": "stream",
     "name": "stdout",
     "text": "0.34952853241952997\n"
    }
   ],
   "metadata": {},
   "execution_count": 9
  },
  {
   "source": [
    "def p_kr_2():\n",
    "    p_kr_2 = Сy_kr()*q(H_kr,Atmos_a[H_kr])*pow(M_fl(H_kr,V_kr),2)/(1-0.6*m_t)/g\n",
    "    return p_kr_2"
   ],
   "cell_type": "code",
   "outputs": [],
   "metadata": {},
   "execution_count": 12
  },
  {
   "source": [
    "print (p_kr_1())"
   ],
   "cell_type": "code",
   "outputs": [
    {
     "output_type": "stream",
     "name": "stdout",
     "text": "187.79126808928132\n"
    }
   ],
   "metadata": {},
   "execution_count": 11
  },
  {
   "source": [
    "def m_kr():\n",
    "    m_kr = 1.15*0.0001*Wing_k_mechanical*Wing_k_construction*Wing_k_mt*fi*n_e*1.5*Wing_lymbda*sqrt(Wing_S)/sqrt(Wing_teta*Wing_C_0)/pow(cos(radians(Wing_ksi)),1.5)*(Wing_niu+4)/(Wing_niu+1)*(1-(Wing_miu-1)/(Wing_niu+3))\n",
    "    return m_kr\n",
    ""
   ],
   "cell_type": "code",
   "outputs": [],
   "metadata": {},
   "execution_count": 0
  },
  {
   "source": [
    "print (p_kr_2())"
   ],
   "cell_type": "code",
   "outputs": [
    {
     "output_type": "stream",
     "name": "stdout",
     "text": "161.83752878049444\n"
    }
   ],
   "metadata": {},
   "execution_count": 13
  },
  {
   "source": [
    "def fi(K_sh, k_t_kr, z_t_kr):\n",
    "    fi = 0.93-0.0063*K_sh-k_t_kr*z_t_kr*z_t_kr\n",
    "    return fi"
   ],
   "cell_type": "code",
   "outputs": [],
   "metadata": {},
   "execution_count": 14
  },
  {
   "source": [
    "print (fi(K_sh, k_t_kr, z_t_kr))"
   ],
   "cell_type": "code",
   "outputs": [
    {
     "output_type": "stream",
     "name": "stdout",
     "text": "0.6717000000000001\n"
    }
   ],
   "metadata": {},
   "execution_count": 15
  },
  {
   "source": [
    "def Mass(m_con, m_su, m_ob, m_t):\n",
    "    Mass = (M_cn + M_sluj)/(1.0 - m_con - m_t - m_ob - m_su)\n",
    "    return Mass"
   ],
   "cell_type": "code",
   "outputs": [],
   "metadata": {},
   "execution_count": 40
  },
  {
   "source": [
    "print (Mass(m_con, m_su, m_ob, m_t))"
   ],
   "cell_type": "code",
   "outputs": [
    {
     "output_type": "error",
     "ename": "TypeError",
     "evalue": "unsupported operand type(s) for -: 'float' and 'function'",
     "traceback": [
      "\u001b[1;31m---------------------------------------------------------------------------\u001b[0m",
      "\u001b[1;31mTypeError\u001b[0m                                 Traceback (most recent call last)",
      "\u001b[1;32m<ipython-input-39-e3049c12caea>\u001b[0m in \u001b[0;36m<module>\u001b[1;34m\u001b[0m\n\u001b[1;32m----> 1\u001b[1;33m \u001b[0mprint\u001b[0m \u001b[1;33m(\u001b[0m\u001b[0mMass\u001b[0m\u001b[1;33m(\u001b[0m\u001b[0mm_con\u001b[0m\u001b[1;33m,\u001b[0m \u001b[0mm_su\u001b[0m\u001b[1;33m,\u001b[0m \u001b[0mm_ob\u001b[0m\u001b[1;33m,\u001b[0m \u001b[0mm_t\u001b[0m\u001b[1;33m)\u001b[0m\u001b[1;33m)\u001b[0m\u001b[1;33m\u001b[0m\u001b[1;33m\u001b[0m\u001b[0m\n\u001b[0m",
      "\u001b[1;32m<ipython-input-38-239f458d3a0f>\u001b[0m in \u001b[0;36mMass\u001b[1;34m(m_con, m_su, m_ob, m_t)\u001b[0m\n\u001b[0;32m      1\u001b[0m \u001b[1;32mdef\u001b[0m \u001b[0mMass\u001b[0m\u001b[1;33m(\u001b[0m\u001b[0mm_con\u001b[0m\u001b[1;33m,\u001b[0m \u001b[0mm_su\u001b[0m\u001b[1;33m,\u001b[0m \u001b[0mm_ob\u001b[0m\u001b[1;33m,\u001b[0m \u001b[0mm_t\u001b[0m\u001b[1;33m)\u001b[0m\u001b[1;33m:\u001b[0m\u001b[1;33m\u001b[0m\u001b[1;33m\u001b[0m\u001b[0m\n\u001b[1;32m----> 2\u001b[1;33m     \u001b[0mMass\u001b[0m \u001b[1;33m=\u001b[0m \u001b[1;33m(\u001b[0m\u001b[0mM_cn\u001b[0m \u001b[1;33m+\u001b[0m \u001b[0mM_sluj\u001b[0m\u001b[1;33m)\u001b[0m\u001b[1;33m/\u001b[0m\u001b[1;33m(\u001b[0m\u001b[1;36m1.0\u001b[0m \u001b[1;33m-\u001b[0m \u001b[0mm_con\u001b[0m \u001b[1;33m-\u001b[0m \u001b[0mm_t\u001b[0m \u001b[1;33m-\u001b[0m \u001b[0mm_ob\u001b[0m \u001b[1;33m-\u001b[0m \u001b[0mm_su\u001b[0m\u001b[1;33m)\u001b[0m\u001b[1;33m\u001b[0m\u001b[1;33m\u001b[0m\u001b[0m\n\u001b[0m\u001b[0;32m      3\u001b[0m     \u001b[1;32mreturn\u001b[0m \u001b[0mMass\u001b[0m\u001b[1;33m\u001b[0m\u001b[1;33m\u001b[0m\u001b[0m\n",
      "\u001b[1;31mTypeError\u001b[0m: unsupported operand type(s) for -: 'float' and 'function'"
     ]
    }
   ],
   "metadata": {},
   "execution_count": 39
  },
  {
   "source": [
    "def n_e():\n",
    "    n_e = 2.1 + 10890.0/(4540.0 + Mass(m_con,m_su,m_ob,m_t))\n",
    "    if n_e > 3.8:\n",
    "        n_e = 3.8\n",
    "    return n_e"
   ],
   "cell_type": "code",
   "outputs": [],
   "metadata": {},
   "execution_count": 0
  },
  {
   "source": [
    "print (n_e())"
   ],
   "cell_type": "code",
   "outputs": [],
   "metadata": {},
   "execution_count": 0
  },
  {
   "source": [
    "def m_op():\n",
    "    m_op = Kv*Km/M_1*(4.4+0.8/1000*Mass)*Sop\n",
    "    return m_op\n"
   ],
   "cell_type": "code",
   "outputs": [],
   "metadata": {},
   "execution_count": 0
  },
  {
   "source": [
    "def m_sh():\n",
    "    m_sh = k_grn*(k_mt_sh*k_obt*(6*H_sh+11.3)/1000+0.0625*Kpn*sqrt(Ppn)/(1+Ppn)+0.005)\n",
    "    return m_sh\n",
    ""
   ],
   "cell_type": "code",
   "outputs": [],
   "metadata": {},
   "execution_count": 0
  },
  {
   "source": [
    "def m_f():\n",
    "    m_f = k_1*lymbda_f*d_f*d_f*pow(Mass(m_con(),m_su,m_ob,m_t),i)+k_2+k_3+k_4\n",
    "    return m_f\n",
    ""
   ],
   "cell_type": "code",
   "outputs": [],
   "metadata": {},
   "execution_count": 0
  },
  {
   "source": [
    "def m_su():\n",
    "    m_su = K_su*gama_dv*P_0\n",
    "    return m_su"
   ],
   "cell_type": "code",
   "outputs": [],
   "metadata": {},
   "execution_count": 0
  },
  {
   "source": [
    "def m_con():\n",
    "    m_con = 0.3\n",
    "    return m_con"
   ],
   "cell_type": "code",
   "outputs": [],
   "metadata": {},
   "execution_count": 0
  },
  {
   "source": [
    "def m_ob():\n",
    "    m_ob = 0.14\n",
    "    return m_ob"
   ],
   "cell_type": "code",
   "outputs": [],
   "metadata": {},
   "execution_count": 0
  },
  {
   "source": [
    "print (m_con())"
   ],
   "cell_type": "code",
   "outputs": [],
   "metadata": {},
   "execution_count": 0
  },
  {
   "source": [
    "def K_su():\n",
    "    K_su = kdv_1*(1+0.1*Ndv_rev/Ndv)*(kdv_f+kdv_2/gama_dv*pow((1.62+0.275*pow(m_dv,0.75)),2))\n",
    "    return K_su\n",
    ""
   ],
   "cell_type": "code",
   "outputs": [],
   "metadata": {},
   "execution_count": 0
  },
  {
   "source": [
    "def m_tnr():\n",
    "    m_tnr = 0.0035*Hkr*(1-0.03*m)/(1-0.004*Hkr)\n",
    "    return m_tnr"
   ],
   "cell_type": "code",
   "outputs": [],
   "metadata": {},
   "execution_count": 0
  },
  {
   "source": [
    "def m_tsnp():\n",
    "    m_tsnp = 0.002*Hkr*(1-0.023*Hkr)*(1-0.03*m)\n",
    "    return m_tsnp"
   ],
   "cell_type": "code",
   "outputs": [],
   "metadata": {},
   "execution_count": 0
  },
  {
   "source": [
    "print (p_kr_3())"
   ],
   "cell_type": "code",
   "outputs": [],
   "metadata": {},
   "execution_count": 0
  },
  {
   "source": [
    "def p_kr_3():\n",
    "    p_kr_3 = Cy_dop*q(H_kr,V_max/3.6)/(n_e()*1.5)/(1-0.6*m_t)\n",
    "    return p_kr_3"
   ],
   "cell_type": "code",
   "outputs": [],
   "metadata": {},
   "execution_count": 0
  },
  {
   "source": [
    "def m_tnz():\n",
    "    m_tnz = 0.9*Cp/K_max\n",
    "    return m_tnz"
   ],
   "cell_type": "code",
   "outputs": [],
   "metadata": {},
   "execution_count": 0
  },
  {
   "source": [
    "def m_tkr():\n",
    "    m_tkr = (1-m_tnr)*(1-exp(-(Lline-400)*Cp/(Vkr-70)/Kkr))\n",
    "    return m_tkr"
   ],
   "cell_type": "code",
   "outputs": [],
   "metadata": {},
   "execution_count": 0
  },
  {
   "source": [
    "def m_t():\n",
    "    m_t = m_tnr + m_tsnp + m_tpr + m_tnz + m_tkr\n",
    "    return m_t"
   ],
   "cell_type": "code",
   "outputs": [],
   "metadata": {},
   "execution_count": 0
  },
  {
   "source": [
    "#k=1\n",
    "\n",
    "#M_cn = N * m_pass\n",
    "#M_1 = int(Mas_1(M_cn, m_con_1, m_t_1, m_ob_1, m_su_1))\n",
    "#m_cn = M_cn/M_1\n",
    "#M_sl = M_cn*0.15\n",
    "#m_sl = M_sl/M_1\n",
    "\n",
    "print(\"Масса целевой нагрузки:\", M_cn,\" кг\")\n",
    "print(\"Масса служебной нагрузки:\", \"%.0f\" %  M_sluj,\" кг\")\n",
    "print(\"Масса первого приближения:\", Mass,\" кг\",\"\\n\")\n",
    "print(\"Относительная масса целевой нагрузки:\", \"%.3f\" % M_cn)\n",
    "print(\"Относительная масса служебной нагрузки:\", \"%.3f\" % M_sluj)\n",
    "\n",
    "\n",
    "#n_p_2 = n_p(p_0, ksi, lymbda)\n",
    "#n_e_2 = n_p_2 * 0.667\n",
    "print(\"Расчетная перегрузка:\", \"%.1f\" % n_p)\n",
    "print(\"Эксплуатационная перегрузка:\", \"%.1f\" % n_e, \"\\n\")\n",
    "\n",
    "\n",
    "fi_k = fi(K_sh, k_t_kr, z_t_kr)\n",
    "print(\"Коэффициент fi крыла:\", \"%.2f\" % fi_k)\n",
    "\n",
    "m_kr = m_kr()\n",
    "print(\"Относительная масса крыла:\", \"%.3f\" % m_kr)\n",
    "\n",
    "m_f = m_f()\n",
    "print(\"Относительная масса фюзеляжа:\", \"%.3f\" % m_f)\n",
    "\n",
    "m_op = m_op()\n",
    "print(\"Относительная масса оперения:\", \"%.3f\" % m_op)\n",
    "\n",
    "m_sh = m_sh()\n",
    "print(\"Относительная масса шасси:\", \"%.3f\" % m_sh)\n",
    "\n",
    "m_con = m_con()\n",
    "print(\"Относительная масса конструкции:\", \"%.3f\" % m_con,\"\\n\")\n",
    "\n",
    "K_su = K_su()\n",
    "print(\"Коэффициент k двигателя:\", \"%.2f\" % K_su)\n",
    "\n",
    "m_su = m_su()\n",
    "print(\"Относительная масса силовой установки:\", \"%.3f\" % m_su,\"\\n\")\n",
    "\n",
    "m_ob = m_ob()\n",
    "print(\"Относительная масса оборудования:\", \"%.3f\" % m_ob,\"\\n\")\n",
    "\n",
    "Cp = Cp_0+0.4*Vkr/3.6/a/(1+0.027*Hkr)\n",
    "print(\"Расход топлива на высоте:\", \"%.2f\" % Cp,\"кг/(кгс*ч)\" )\n",
    "\n",
    "m_tnr = m_tnr(Hkr, m_dv)\n",
    "print(\"Относительная масса топлива для взлета и набора высоты:\", \"%.3f\" % m_tnr)\n",
    "\n",
    "m_tsnp = m_tsnp()\n",
    "print(\"Относительная масса топлива для снижения и посадки:\", \"%.3f\" % m_tsnp)\n",
    "\n",
    "m_tnz = m_tnz(Cp, Kmax)\n",
    "print(\"Относительная масса аэронавигационного запаса топлива:\", \"%.3f\" % m_tnz)\n",
    "\n",
    "m_tkr = m_tkr()\n",
    "print(\"Относительная масса топлива для крейсерского полета:\", \"%.3f\" % m_tkr)\n",
    "\n",
    "m_tpr = 0.006\n",
    "print(\"Относительная масса топлива для запуска двигателя и руления:\", \"%.3f\" % m_tpr)\n",
    "\n",
    "m_t = m_t()\n",
    "print(\"Относительная масса топлива:\", \"%.3f\" % m_t,\"\\n\")\n",
    "\n",
    "Mass = int(Mass())\n",
    "print (\"Масса во втором приближении:\", Mass)\n",
    "Mt = m_t * Mass\n",
    "print(\"Масса топлива:\", \"%.1f\" % Mt,\"\\n\")\n",
    "print (\"Дельта:\", \"%.2f\" % (abs((M_1-M_2)/M_1)*100), \"%\")\n",
    "\n",
    "while delta > 0.01:\n",
    "    \n",
    "    \n",
    ""
   ],
   "cell_type": "code",
   "outputs": [],
   "metadata": {},
   "execution_count": 0
  },
  {
   "cell_type": "code",
   "metadata": {},
   "outputs": [],
   "source": []
  }
 ]
}