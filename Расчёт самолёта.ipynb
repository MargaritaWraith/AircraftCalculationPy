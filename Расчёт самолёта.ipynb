{
 "nbformat": 4,
 "nbformat_minor": 2,
 "metadata": {
  "language_info": {
   "name": "python",
   "codemirror_mode": {
    "name": "ipython",
    "version": 3
   }
  },
  "orig_nbformat": 2,
  "file_extension": ".py",
  "mimetype": "text/x-python",
  "name": "python",
  "npconvert_exporter": "python",
  "pygments_lexer": "ipython3",
  "version": 3
 },
 "cells": [
  {
   "cell_type": "markdown",
   "execution_count": null,
   "metadata": {},
   "outputs": [],
   "source": [
    "# Расчёт самолёта"
   ]
  },
  {
   "cell_type": "code",
   "execution_count": 11,
   "metadata": {},
   "outputs": [
    {
     "name": "stdout",
     "output_type": "stream",
     "text": "(920.0, 5326.315789473685)\n"
    }
   ],
   "source": [
    "N = 10\n",
    "m = 77 + 15.0\n",
    "m_con = 0.28\n",
    "m_t = 0.25\n",
    "m_s = 0.1\n",
    "m_su = 0.18\n",
    "\n",
    "def Mas_0(N, m, m_con, m_t, m_s, m_su):\n",
    "    M_cn = N * m\n",
    "    M = M_cn * 1.1/(1 - m_con - m_t - m_s - m_su)\n",
    "    return (M_cn, M)\n",
    "\n",
    "M = Mas_0(N, m, m_con, m_t, m_s, m_su)\n",
    "print(M)\n"
   ]
  },
  {
   "cell_type": "code",
   "execution_count": null,
   "metadata": {},
   "outputs": [],
   "source": []
  }
 ]
}